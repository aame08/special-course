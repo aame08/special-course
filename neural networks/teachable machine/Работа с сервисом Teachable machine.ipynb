version https://git-lfs.github.com/spec/v1
oid sha256:a438603e673bb81c32e21ef82e6c9e39e771248227212323572498d99d76b753
size 263593
