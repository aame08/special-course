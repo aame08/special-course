version https://git-lfs.github.com/spec/v1
oid sha256:c821a7f34f07fa943501c4fd51f41e5236ce577b950655f58eef1417d5b5989b
size 496993
