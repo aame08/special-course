version https://git-lfs.github.com/spec/v1
oid sha256:38f117319cf40fc90883b1829bd809f900895ab52b485759824480a195a144c1
size 502584
