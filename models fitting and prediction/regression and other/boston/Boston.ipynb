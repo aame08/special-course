version https://git-lfs.github.com/spec/v1
oid sha256:692b6ff3b35b4e6a09d0a647b33aed11fd043114893e622afd9ddd2dfdbbae58
size 2761469
