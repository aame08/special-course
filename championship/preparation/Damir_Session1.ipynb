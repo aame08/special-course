version https://git-lfs.github.com/spec/v1
oid sha256:c2a82e9294919b184a9f8001fcf5793eb2645f96b845f210103d44237f6988f5
size 2232091
