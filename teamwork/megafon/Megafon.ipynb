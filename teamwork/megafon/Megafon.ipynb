version https://git-lfs.github.com/spec/v1
oid sha256:787084b1f69fddb5c00a6eb7ed0a5796b936688722b2672d40776222efa3b09d
size 102344
