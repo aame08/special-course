version https://git-lfs.github.com/spec/v1
oid sha256:3035d6e10014a110404fd4f18ca6e3c417c5b7ea87aa7a27b5b5b2895f62deb2
size 87678
